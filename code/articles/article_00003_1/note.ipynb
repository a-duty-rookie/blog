{
 "cells": [
  {
   "cell_type": "code",
   "execution_count": null,
   "metadata": {},
   "outputs": [],
   "source": [
    "import numpy as np\n",
    "import scipy.stats as st\n",
    "import matplotlib.pyplot as plt\n",
    "import os\n",
    "import pandas as pd\n",
    "\n",
    "if os.name == \"nt\":\n",
    "    plt.rcParams[\"font.family\"] = \"Meiryo\"\n",
    "elif os.name == \"posix\":\n",
    "    plt.rcParams[\"font.family\"] = \"Hiragino Sans\"\n",
    "\n",
    "SEED = 42"
   ]
  },
  {
   "cell_type": "code",
   "execution_count": 27,
   "metadata": {},
   "outputs": [],
   "source": [
    "IMAGE_DIR = os.getcwd().replace('code','images')\n",
    "DATA_DIR = os.getcwd()\n",
    "os.makedirs(IMAGE_DIR,exist_ok=True)"
   ]
  },
  {
   "cell_type": "markdown",
   "metadata": {},
   "source": [
    "## シミュレーションのためのデータ作成\n",
    "\n",
    "10歳時の身長は以下の回帰によって決まるものとする\n",
    "\n",
    "$$\n",
    "身長 = 父親の身長と母親の身長の平均(cm)*.8 + 男であること*10 + 運動時間(h) * 0.01 + 牛乳 \\times 運動 * 0.07 + \\epsilon(~normal(0,10))\n",
    "$$"
   ]
  },
  {
   "cell_type": "code",
   "execution_count": 28,
   "metadata": {},
   "outputs": [],
   "source": [
    "np.random.seed(SEED)\n",
    "s = 120\n",
    "\n",
    "father = np.random.normal(170,5,size=s)\n",
    "mother = np.random.normal(155,5,size=s)\n",
    "sex = np.random.binomial(n=1,p=0.5,size=s)\n",
    "activity = np.random.normal(5,1,size=s)+sex*1\n",
    "milk= np.random.normal(1,0.2,size=s)\n",
    "error = np.random.normal(0,10,size=s)\n",
    "\n",
    "x = np.array([\n",
    "    (father+mother)/2,\n",
    "    sex,\n",
    "    activity,\n",
    "    milk,\n",
    "    milk*activity,\n",
    "    ]).T\n",
    "beta = np.array([\n",
    "    .85,\n",
    "    5,\n",
    "    0.1,\n",
    "    0.05,\n",
    "    1,\n",
    "    ]).reshape(-1,1)"
   ]
  },
  {
   "cell_type": "code",
   "execution_count": 29,
   "metadata": {},
   "outputs": [],
   "source": [
    "df = pd.DataFrame(dict(\n",
    "\tfather = father,\n",
    "\tmother = mother,\n",
    "\tsex = sex,\n",
    "\tactivity = activity,\n",
    "\tmilk = milk,\n",
    "\theight = np.dot(x,beta)[:,0]\n",
    "))"
   ]
  },
  {
   "cell_type": "code",
   "execution_count": 30,
   "metadata": {},
   "outputs": [
    {
     "data": {
      "text/html": [
       "<div>\n",
       "<style scoped>\n",
       "    .dataframe tbody tr th:only-of-type {\n",
       "        vertical-align: middle;\n",
       "    }\n",
       "\n",
       "    .dataframe tbody tr th {\n",
       "        vertical-align: top;\n",
       "    }\n",
       "\n",
       "    .dataframe thead th {\n",
       "        text-align: right;\n",
       "    }\n",
       "</style>\n",
       "<table border=\"1\" class=\"dataframe\">\n",
       "  <thead>\n",
       "    <tr style=\"text-align: right;\">\n",
       "      <th></th>\n",
       "      <th>father</th>\n",
       "      <th>mother</th>\n",
       "      <th>sex</th>\n",
       "      <th>activity</th>\n",
       "      <th>milk</th>\n",
       "      <th>height</th>\n",
       "    </tr>\n",
       "  </thead>\n",
       "  <tbody>\n",
       "    <tr>\n",
       "      <th>count</th>\n",
       "      <td>120.000000</td>\n",
       "      <td>120.000000</td>\n",
       "      <td>120.000000</td>\n",
       "      <td>120.000000</td>\n",
       "      <td>120.000000</td>\n",
       "      <td>120.000000</td>\n",
       "    </tr>\n",
       "    <tr>\n",
       "      <th>mean</th>\n",
       "      <td>169.604155</td>\n",
       "      <td>155.371821</td>\n",
       "      <td>0.491667</td>\n",
       "      <td>5.488045</td>\n",
       "      <td>0.976926</td>\n",
       "      <td>146.495950</td>\n",
       "    </tr>\n",
       "    <tr>\n",
       "      <th>std</th>\n",
       "      <td>4.626583</td>\n",
       "      <td>5.061526</td>\n",
       "      <td>0.502027</td>\n",
       "      <td>1.111562</td>\n",
       "      <td>0.201700</td>\n",
       "      <td>4.456625</td>\n",
       "    </tr>\n",
       "    <tr>\n",
       "      <th>min</th>\n",
       "      <td>156.901274</td>\n",
       "      <td>144.874287</td>\n",
       "      <td>0.000000</td>\n",
       "      <td>2.876104</td>\n",
       "      <td>0.505671</td>\n",
       "      <td>136.140771</td>\n",
       "    </tr>\n",
       "    <tr>\n",
       "      <th>25%</th>\n",
       "      <td>167.140623</td>\n",
       "      <td>151.207458</td>\n",
       "      <td>0.000000</td>\n",
       "      <td>4.870924</td>\n",
       "      <td>0.845666</td>\n",
       "      <td>143.066593</td>\n",
       "    </tr>\n",
       "    <tr>\n",
       "      <th>50%</th>\n",
       "      <td>169.633860</td>\n",
       "      <td>155.927720</td>\n",
       "      <td>0.000000</td>\n",
       "      <td>5.401168</td>\n",
       "      <td>0.965398</td>\n",
       "      <td>146.343449</td>\n",
       "    </tr>\n",
       "    <tr>\n",
       "      <th>75%</th>\n",
       "      <td>171.913931</td>\n",
       "      <td>158.311573</td>\n",
       "      <td>1.000000</td>\n",
       "      <td>6.344785</td>\n",
       "      <td>1.109652</td>\n",
       "      <td>149.651067</td>\n",
       "    </tr>\n",
       "    <tr>\n",
       "      <th>max</th>\n",
       "      <td>182.316211</td>\n",
       "      <td>174.263657</td>\n",
       "      <td>1.000000</td>\n",
       "      <td>8.189803</td>\n",
       "      <td>1.615776</td>\n",
       "      <td>159.533859</td>\n",
       "    </tr>\n",
       "  </tbody>\n",
       "</table>\n",
       "</div>"
      ],
      "text/plain": [
       "           father      mother         sex    activity        milk      height\n",
       "count  120.000000  120.000000  120.000000  120.000000  120.000000  120.000000\n",
       "mean   169.604155  155.371821    0.491667    5.488045    0.976926  146.495950\n",
       "std      4.626583    5.061526    0.502027    1.111562    0.201700    4.456625\n",
       "min    156.901274  144.874287    0.000000    2.876104    0.505671  136.140771\n",
       "25%    167.140623  151.207458    0.000000    4.870924    0.845666  143.066593\n",
       "50%    169.633860  155.927720    0.000000    5.401168    0.965398  146.343449\n",
       "75%    171.913931  158.311573    1.000000    6.344785    1.109652  149.651067\n",
       "max    182.316211  174.263657    1.000000    8.189803    1.615776  159.533859"
      ]
     },
     "execution_count": 30,
     "metadata": {},
     "output_type": "execute_result"
    }
   ],
   "source": [
    "df.describe()"
   ]
  },
  {
   "cell_type": "code",
   "execution_count": 31,
   "metadata": {},
   "outputs": [
    {
     "data": {
      "text/plain": [
       "<matplotlib.legend.Legend at 0x16dd36f20>"
      ]
     },
     "execution_count": 31,
     "metadata": {},
     "output_type": "execute_result"
    },
    {
     "data": {
      "image/png": "[encoded data removed]",
      "text/plain": [
       "<Figure size 640x480 with 1 Axes>"
      ]
     },
     "metadata": {},
     "output_type": "display_data"
    }
   ],
   "source": [
    "for i,s in enumerate(['女子','男子']):\n",
    "\tplt.scatter(\n",
    "\t\tdf.loc[df.sex==i].milk,\n",
    "\t\tdf.loc[df.sex==i].height,\n",
    "\t\talpha=.7,\n",
    "\t\tlabel = s\n",
    "\t)\n",
    "\n",
    "plt.legend()"
   ]
  },
  {
   "cell_type": "code",
   "execution_count": 32,
   "metadata": {},
   "outputs": [],
   "source": [
    "df.to_pickle(f'{DATA_DIR}/dummy_data.pkl')"
   ]
  },
  {
   "cell_type": "code",
   "execution_count": 33,
   "metadata": {},
   "outputs": [],
   "source": [
    "df=pd.read_pickle(f'{DATA_DIR}/dummy_data.pkl')\n"
   ]
  },
  {
   "cell_type": "code",
   "execution_count": 34,
   "metadata": {},
   "outputs": [],
   "source": [
    "y = df.height\n",
    "x = df.milk"
   ]
  },
  {
   "cell_type": "code",
   "execution_count": 35,
   "metadata": {},
   "outputs": [
    {
     "data": {
      "text/plain": [
       "0.04068300314064104"
      ]
     },
     "execution_count": 35,
     "metadata": {},
     "output_type": "execute_result"
    }
   ],
   "source": [
    "np.var(x,ddof=1)"
   ]
  },
  {
   "cell_type": "code",
   "execution_count": 36,
   "metadata": {},
   "outputs": [
    {
     "data": {
      "text/plain": [
       "0.20086681163540904"
      ]
     },
     "execution_count": 36,
     "metadata": {},
     "output_type": "execute_result"
    }
   ],
   "source": [
    "cov = np.cov(x,y,ddof=1)\n",
    "r = cov[0,1]/np.sqrt(cov[0,0]*cov[1,1])\n",
    "r\n",
    "# beta_2 = cov[0,1]/cov[0,0]\n",
    "# beta_1 = np.mean(y)-beta_2*np.mean(x)\n",
    "# r_square = np.sum(np.power(y_hat-np.mean(y),2))/np.sum(np.power(y-np.mean(y),2))\n",
    "# r = np.sqrt(r_square)\n",
    "# print('beta_1',beta_1)\n",
    "# print('beta_2',beta_2)\n",
    "# print('r_2',r_square)\n",
    "# print('r',r)"
   ]
  },
  {
   "cell_type": "code",
   "execution_count": 37,
   "metadata": {},
   "outputs": [
    {
     "data": {
      "text/plain": [
       "0.2008668116354091"
      ]
     },
     "execution_count": 37,
     "metadata": {},
     "output_type": "execute_result"
    }
   ],
   "source": [
    "cov = np.cov(x,y,ddof=0)\n",
    "r = cov[0,1]/np.sqrt(cov[0,0]*cov[1,1])\n",
    "r"
   ]
  },
  {
   "cell_type": "code",
   "execution_count": 38,
   "metadata": {},
   "outputs": [
    {
     "data": {
      "text/plain": [
       "array([[ 0.04034398,  0.17905502],\n",
       "       [ 0.17905502, 19.695994  ]])"
      ]
     },
     "execution_count": 38,
     "metadata": {},
     "output_type": "execute_result"
    }
   ],
   "source": [
    "cov"
   ]
  },
  {
   "cell_type": "code",
   "execution_count": 40,
   "metadata": {},
   "outputs": [
    {
     "name": "stdout",
     "output_type": "stream",
     "text": [
      "beta_1 142.1601494948339\n",
      "beta_2 4.438209287295184\n",
      "r_2 0.04034747601657481\n",
      "r 0.20086681163540882\n"
     ]
    }
   ],
   "source": [
    "cov = np.cov(x,y,ddof=0)\n",
    "beta_2 = cov[0,1]/cov[0,0]\n",
    "beta_1 = np.mean(y)-beta_2*np.mean(x)\n",
    "\n",
    "y_hat = beta_1 + beta_2 * x\n",
    "\n",
    "r_square = np.sum(np.power(y_hat-np.mean(y),2))/np.sum(np.power(y-np.mean(y),2))\n",
    "r = np.sqrt(r_square)\n",
    "\n",
    "print('beta_1',beta_1)\n",
    "print('beta_2',beta_2)\n",
    "print('r_2',r_square)\n",
    "print('r',r)"
   ]
  },
  {
   "cell_type": "code",
   "execution_count": 41,
   "metadata": {},
   "outputs": [
    {
     "data": {
      "image/png": "[encoded data removed]",
      "text/plain": [
       "<Figure size 640x480 with 1 Axes>"
      ]
     },
     "metadata": {},
     "output_type": "display_data"
    }
   ],
   "source": [
    "x_ = np.linspace(np.min(x),np.max(x),100)\n",
    "y_ = beta_1 + beta_2 * x_\n",
    "fomula = f'y={beta_1:.2f}+{beta_2:.2f}x (r={r:.2f})'\n",
    "\n",
    "plt.tight_layout()\n",
    "plt.scatter(x,y)\n",
    "plt.plot(\n",
    "    x_,\n",
    "    y_,\n",
    "    color = 'r',\n",
    "    label = fomula,\n",
    ")\n",
    "plt.legend(loc='best')\n",
    "plt.xlabel('週平均牛乳消費量(L/week・人)')\n",
    "plt.ylabel('身長(cm)')\n",
    "plt.title('10歳児120人の週あたりの平均牛乳消費量と身長の関係')\n",
    "plt.savefig(f'{IMAGE_DIR}/figure_milk_vs_height')"
   ]
  },
  {
   "cell_type": "code",
   "execution_count": 42,
   "metadata": {},
   "outputs": [
    {
     "name": "stdout",
     "output_type": "stream",
     "text": [
      "r_sq : 0.04034747601657481\n",
      "r : 0.20086681163540882\n"
     ]
    }
   ],
   "source": [
    "print(f'r_sq : {r_square}')\n",
    "print(f'r : {np.sqrt(r_square)}')"
   ]
  },
  {
   "cell_type": "code",
   "execution_count": 274,
   "metadata": {},
   "outputs": [
    {
     "data": {
      "text/plain": [
       "0      0.889270\n",
       "1      0.760424\n",
       "2      1.392945\n",
       "3      1.007053\n",
       "4      0.860055\n",
       "         ...   \n",
       "115    0.956180\n",
       "116    1.165881\n",
       "117    0.557773\n",
       "118    1.047123\n",
       "119    1.154173\n",
       "Name: milk, Length: 120, dtype: float64"
      ]
     },
     "execution_count": 274,
     "metadata": {},
     "output_type": "execute_result"
    }
   ],
   "source": [
    "x"
   ]
  },
  {
   "cell_type": "code",
   "execution_count": null,
   "metadata": {},
   "outputs": [],
   "source": []
  },
  {
   "cell_type": "code",
   "execution_count": 279,
   "metadata": {},
   "outputs": [],
   "source": [
    "from sklearn.linear_model import LinearRegression\n",
    "\n",
    "x = np.array(x).reshape(-1,1)\n",
    "y = np.array(y)\n",
    "\n",
    "lr = LinearRegression().fit(x,y)"
   ]
  },
  {
   "cell_type": "code",
   "execution_count": 280,
   "metadata": {},
   "outputs": [
    {
     "name": "stdout",
     "output_type": "stream",
     "text": [
      "std_err : [0.40128492]\n",
      "t : [11.05999508]\n"
     ]
    }
   ],
   "source": [
    "coef_ = lr.coef_\n",
    "y_hat = lr.predict(x)\n",
    "\n",
    "sse = np.sum((y-y_hat)**2,axis=0)\n",
    "sse = sse/(x.shape[0] - x.shape[1]-1)\n",
    "\n",
    "s = np.linalg.inv(np.dot(x.T,x))\n",
    "\n",
    "std_err = np.sqrt(np.diagonal(sse * s))\n",
    "\n",
    "print(\"std_err :\", std_err)\n",
    "\n",
    "t = coef_/std_err\n",
    "\n",
    "print('t :',t)"
   ]
  },
  {
   "cell_type": "code",
   "execution_count": 181,
   "metadata": {},
   "outputs": [
    {
     "data": {
      "text/plain": [
       "array([152.44043827, 155.82078262, 159.20112697, 162.58147132,\n",
       "       165.96181567, 169.34216002, 172.72250437, 176.10284872,\n",
       "       179.48319307, 182.86353742, 186.24388177, 189.62422612,\n",
       "       193.00457047, 196.38491482, 199.76525917, 203.14560352,\n",
       "       206.52594787, 209.90629222, 213.28663657, 216.66698092,\n",
       "       220.04732527, 223.42766962, 226.80801397, 230.18835832,\n",
       "       233.56870267, 236.94904702, 240.32939137, 243.70973572,\n",
       "       247.09008007, 250.47042442, 253.85076877, 257.23111312,\n",
       "       260.61145747, 263.99180182, 267.37214617, 270.75249052,\n",
       "       274.13283487, 277.51317922, 280.89352357, 284.27386792,\n",
       "       287.65421227, 291.03455662, 294.41490097, 297.79524532,\n",
       "       301.17558967, 304.55593402, 307.93627837, 311.31662272,\n",
       "       314.69696707, 318.07731142, 321.45765577, 324.83800012,\n",
       "       328.21834447, 331.59868882, 334.97903317, 338.35937752,\n",
       "       341.73972187, 345.12006622, 348.50041057, 351.88075492,\n",
       "       355.26109927, 358.64144362, 362.02178797, 365.40213232,\n",
       "       368.78247667, 372.16282102, 375.54316537, 378.92350972,\n",
       "       382.30385407, 385.68419842, 389.06454277, 392.44488712,\n",
       "       395.82523147, 399.20557582, 402.58592017, 405.96626452,\n",
       "       409.34660887, 412.72695322, 416.10729757, 419.48764192,\n",
       "       422.86798627, 426.24833062, 429.62867497, 433.00901932,\n",
       "       436.38936367, 439.76970802, 443.15005237, 446.53039672,\n",
       "       449.91074107, 453.29108542, 456.67142977, 460.05177413,\n",
       "       463.43211848, 466.81246283, 470.19280718, 473.57315153,\n",
       "       476.95349588, 480.33384023, 483.71418458, 487.09452893])"
      ]
     },
     "execution_count": 181,
     "metadata": {},
     "output_type": "execute_result"
    }
   ],
   "source": [
    "y_hat"
   ]
  },
  {
   "cell_type": "code",
   "execution_count": 169,
   "metadata": {},
   "outputs": [
    {
     "data": {
      "text/plain": [
       "<matplotlib.legend.Legend at 0x172d3ac50>"
      ]
     },
     "execution_count": 169,
     "metadata": {},
     "output_type": "execute_result"
    },
    {
     "data": {
      "image/png": "[encoded data removed]",
      "text/plain": [
       "<Figure size 640x480 with 1 Axes>"
      ]
     },
     "metadata": {},
     "output_type": "display_data"
    }
   ],
   "source": [
    "for i,s in enumerate(['女子','男子']):\n",
    "\tplt.scatter(\n",
    "\t\tdf.loc[df.sex==i].father,\n",
    "\t\tdf.loc[df.sex==i].height,\n",
    "\t\tlabel = s\n",
    "\t)\n",
    "\n",
    "plt.legend()"
   ]
  }
 ],
 "metadata": {
  "kernelspec": {
   "display_name": ".venv",
   "language": "python",
   "name": "python3"
  },
  "language_info": {
   "codemirror_mode": {
    "name": "ipython",
    "version": 3
   },
   "file_extension": ".py",
   "mimetype": "text/x-python",
   "name": "python",
   "nbconvert_exporter": "python",
   "pygments_lexer": "ipython3",
   "version": "3.10.11"
  }
 },
 "nbformat": 4,
 "nbformat_minor": 2
}
